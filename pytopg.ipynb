{
  "nbformat": 4,
  "nbformat_minor": 0,
  "metadata": {
    "colab": {
      "name": "pytopg.ipynb",
      "provenance": [],
      "collapsed_sections": []
    },
    "kernelspec": {
      "name": "python3",
      "display_name": "Python 3"
    },
    "language_info": {
      "name": "python"
    }
  },
  "cells": [
    {
      "cell_type": "code",
      "execution_count": 1,
      "metadata": {
        "colab": {
          "base_uri": "https://localhost:8080/"
        },
        "id": "RVxxL5JUd-C_",
        "outputId": "bee1b160-15a8-4bf6-c849-ec7f6ad25b39"
      },
      "outputs": [
        {
          "output_type": "stream",
          "name": "stdout",
          "text": [
            "Requirement already satisfied: psycopg2 in /usr/local/lib/python3.7/dist-packages (2.7.6.1)\n",
            "could not connect to server: Connection refused\n",
            "\tIs the server running on host \"localhost\" (127.0.0.1) and accepting\n",
            "\tTCP/IP connections on port 5432?\n",
            "could not connect to server: Cannot assign requested address\n",
            "\tIs the server running on host \"localhost\" (::1) and accepting\n",
            "\tTCP/IP connections on port 5432?\n",
            "\n"
          ]
        },
        {
          "output_type": "stream",
          "name": "stderr",
          "text": [
            "/usr/local/lib/python3.7/dist-packages/psycopg2/__init__.py:144: UserWarning: The psycopg2 wheel package will be renamed from release 2.8; in order to keep installing from binary please use \"pip install psycopg2-binary\" instead. For details see: <http://initd.org/psycopg/docs/install.html#binary-install-from-pypi>.\n",
            "  \"\"\")\n"
          ]
        }
      ],
      "source": [
        "!pip install psycopg2\n",
        "!pip install psycopg2 binary\n",
        "import psycopg2\n",
        "\n",
        "hostname = 'localhost'\n",
        "db = 'yashviz_pr'\n",
        "username = 'postgres'\n",
        "pwd = 'yps.pg'\n",
        "port_id = 5432\n",
        "conn = None\n",
        "cur = None\n",
        "\n",
        "#Establishing the connection\n",
        "try:\n",
        "  conn = psycopg2.connect(\n",
        "            dbname = db, \n",
        "            user = username,\n",
        "            password = pwd, \n",
        "            host = hostname, \n",
        "            port = port_id)\n",
        "  \n",
        "  cur = conn.cursor()\n",
        "\n",
        "except Exception as error:\n",
        "  print(error)\n",
        "\n",
        "#Closing the connection\n",
        "finally:\n",
        "  if cur is not None:\n",
        "    cur.close()\n",
        "  if conn is not None:\n",
        "    conn.close() "
      ]
    },
    {
      "cell_type": "code",
      "source": [
        ""
      ],
      "metadata": {
        "id": "oPCPufxeNUVD"
      },
      "execution_count": null,
      "outputs": []
    }
  ]
}